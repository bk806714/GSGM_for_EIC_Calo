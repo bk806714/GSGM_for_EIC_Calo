{
 "cells": [
  {
   "cell_type": "code",
   "execution_count": 1,
   "id": "6a610fb0-f335-4686-a02f-791970fe5e2d",
   "metadata": {},
   "outputs": [],
   "source": [
    "import numpy as np\n",
    "import h5py\n",
    "import matplotlib.pyplot as plt"
   ]
  },
  {
   "cell_type": "markdown",
   "id": "c24a4677-a0d6-4caa-9639-e81e16e39163",
   "metadata": {
    "tags": []
   },
   "source": [
    "### HDF5 Stuff"
   ]
  },
  {
   "cell_type": "code",
   "execution_count": 2,
   "id": "5ed62238-8673-4b1c-92df-ff9b23d175ac",
   "metadata": {},
   "outputs": [
    {
     "name": "stdout",
     "output_type": "stream",
     "text": [
      "[E, X, Y, Z]\n",
      "[-2.98126270e+00 -6.00992095e+02  1.32202226e+03  3.94403663e+03]\n",
      "[-1.79263702e+00 -7.13561813e+02  1.33014865e+03  3.89524666e+03]\n",
      "[-2.98692550e+00 -5.50084654e+02  1.50890511e+03  3.93569367e+03]\n",
      "[-2.43387331e+00 -4.64664614e+02  1.44736520e+03  4.02698156e+03]\n",
      "[-3.23401809e+00 -6.23526586e+02  1.35737941e+03  3.91077649e+03]\n",
      "(100000, 200, 4)\n"
     ]
    }
   ],
   "source": [
    "geant4_name = \"../GSGM.h5\"\n",
    "label = \"GSGM\"\n",
    "f = h5py.File(geant4_name, 'r')\n",
    "f.keys()\n",
    "dataset = \"cell_features\"\n",
    "#dataset = \"hcal_cells\"\n",
    "chunk_size=2000\n",
    "\n",
    "print(\"[E, X, Y, Z]\")\n",
    "for i in range(5):\n",
    "    print(f[dataset][1,i,:]) #XYZ, skip mask\n",
    "    \n",
    "print(np.shape(f[dataset]))"
   ]
  },
  {
   "cell_type": "code",
   "execution_count": 3,
   "id": "164ff119-4c08-44f7-8b82-824f6d346ada",
   "metadata": {},
   "outputs": [
    {
     "data": {
      "image/png": "[encoded data removed]",
      "text/plain": [
       "<Figure size 432x288 with 1 Axes>"
      ]
     },
     "metadata": {
      "needs_background": "light"
     },
     "output_type": "display_data"
    }
   ],
   "source": [
    "energy = f[dataset][:,i,0]\n",
    "_ = plt.hist(np.ravel(energy),bins=100)"
   ]
  },
  {
   "cell_type": "code",
   "execution_count": 4,
   "id": "55c015cd-363f-48f3-abbb-6953baf2ebf3",
   "metadata": {},
   "outputs": [],
   "source": [
    "h5_indexE = 0\n",
    "h5_indexX = 1\n",
    "h5_indexY = 2\n",
    "h5_indexZ = 3"
   ]
  },
  {
   "cell_type": "markdown",
   "id": "6d170283-d776-49c6-87af-bd20e2c89871",
   "metadata": {
    "tags": []
   },
   "source": [
    "### Detector Parameters XYZ"
   ]
  },
  {
   "cell_type": "code",
   "execution_count": 5,
   "id": "d8a956c0-ff9a-45d2-bf1c-ba7f88ad5d7f",
   "metadata": {},
   "outputs": [
    {
     "name": "stdout",
     "output_type": "stream",
     "text": [
      "10\n"
     ]
    }
   ],
   "source": [
    "voxel_factor=5\n",
    "\n",
    "minXY = -2700\n",
    "maxXY = 2700\n",
    "widthXY = 100\n",
    "ncellsXY = int(((maxXY-minXY)/widthXY)/voxel_factor)\n",
    "binningXY = np.linspace(minXY,maxXY,ncellsXY+1)\n",
    "\n",
    "minZ = 3820\n",
    "maxZ = 4991\n",
    "widthZ = 23.4\n",
    "ncellsZ = int((((maxZ-minZ)/widthZ)+3)/voxel_factor)\n",
    "binningZ = np.linspace(minZ,maxZ,ncellsZ+1)\n",
    "print(ncellsZ)\n",
    "\n",
    "n_truth_features = 2"
   ]
  },
  {
   "cell_type": "markdown",
   "id": "bc96b1ef-0e8d-4881-8092-172c2b5877fe",
   "metadata": {},
   "source": [
    "## CaloScore takes [N,Z,X,Y] images. Our HDF5 files have [N,X,Y,Z]. Swap Z with X, and then X with Y"
   ]
  },
  {
   "cell_type": "raw",
   "id": "20bee8ab-3a8a-40c1-8aa8-20253473f1d8",
   "metadata": {},
   "source": [
    "data = f[dataset][:chunk_size]\n",
    "\n",
    "if (dataset==\"cell_features\"):\n",
    "    data[:,:,0] = 10**data[:,:,0]\n",
    "    \n",
    "print(\"original:\")\n",
    "data[0,0,2] = 7.777777 #To guide the eye\n",
    "print(data[0,:10])\n",
    "temp_X = data[:,:,h5_indexX]\n",
    "data[:,:,[1,3]] = data[:,:,[3,1]]#Swap Z and X\n",
    "data[:,:,[2,3]] = data[:,:,[3,2]]#Swap Y and X\n",
    "print(\"swapped\")\n",
    "print(data[0,:10])"
   ]
  },
  {
   "cell_type": "raw",
   "id": "3fc7e30c-7865-47e2-9f08-de6f203c8391",
   "metadata": {},
   "source": [
    "#truth = f['cluster'][start:start+chunk_size,0:2]\n",
    "#print(truth[:10])"
   ]
  },
  {
   "cell_type": "code",
   "execution_count": null,
   "id": "4923f842-4349-4f8e-b01a-440c3eefd532",
   "metadata": {},
   "outputs": [],
   "source": []
  },
  {
   "cell_type": "code",
   "execution_count": 6,
   "id": "3f9e314f-1692-4ffc-bb23-4e40ca3c664b",
   "metadata": {},
   "outputs": [
    {
     "name": "stderr",
     "output_type": "stream",
     "text": [
      "  0%|          | 0/50 [00:00<?, ?it/s]\n"
     ]
    },
    {
     "ename": "KeyError",
     "evalue": "\"Unable to open object (object 'cluster_features' doesn't exist)\"",
     "output_type": "error",
     "traceback": [
      "\u001b[0;31m---------------------------------------------------------------------------\u001b[0m",
      "\u001b[0;31mKeyError\u001b[0m                                  Traceback (most recent call last)",
      "\u001b[0;32m/tmp/ipykernel_1507610/997629192.py\u001b[0m in \u001b[0;36m<module>\u001b[0;34m\u001b[0m\n\u001b[1;32m     20\u001b[0m \u001b[0;34m\u001b[0m\u001b[0m\n\u001b[1;32m     21\u001b[0m         \u001b[0;32mif\u001b[0m \u001b[0mdataset\u001b[0m\u001b[0;34m==\u001b[0m\u001b[0;34m\"cell_features\"\u001b[0m\u001b[0;34m:\u001b[0m\u001b[0;34m\u001b[0m\u001b[0;34m\u001b[0m\u001b[0m\n\u001b[0;32m---> 22\u001b[0;31m             \u001b[0mtruth\u001b[0m \u001b[0;34m=\u001b[0m \u001b[0mf\u001b[0m\u001b[0;34m[\u001b[0m\u001b[0;34m'cluster_features'\u001b[0m\u001b[0;34m]\u001b[0m\u001b[0;34m[\u001b[0m\u001b[0mstart\u001b[0m\u001b[0;34m:\u001b[0m\u001b[0mstart\u001b[0m\u001b[0;34m+\u001b[0m\u001b[0mchunk_size\u001b[0m\u001b[0;34m,\u001b[0m\u001b[0;36m1\u001b[0m\u001b[0;34m]\u001b[0m \u001b[0;31m#genTheta, genP\u001b[0m\u001b[0;34m\u001b[0m\u001b[0;34m\u001b[0m\u001b[0m\n\u001b[0m\u001b[1;32m     23\u001b[0m         \u001b[0;32melse\u001b[0m\u001b[0;34m:\u001b[0m\u001b[0;34m\u001b[0m\u001b[0;34m\u001b[0m\u001b[0m\n\u001b[1;32m     24\u001b[0m             \u001b[0mtruth\u001b[0m \u001b[0;34m=\u001b[0m \u001b[0mf\u001b[0m\u001b[0;34m[\u001b[0m\u001b[0;34m'cluster'\u001b[0m\u001b[0;34m]\u001b[0m\u001b[0;34m[\u001b[0m\u001b[0mstart\u001b[0m\u001b[0;34m:\u001b[0m\u001b[0mstart\u001b[0m\u001b[0;34m+\u001b[0m\u001b[0mchunk_size\u001b[0m\u001b[0;34m,\u001b[0m\u001b[0;36m0\u001b[0m\u001b[0;34m:\u001b[0m\u001b[0;36m2\u001b[0m\u001b[0;34m]\u001b[0m \u001b[0;31m#genP, genTheta\u001b[0m\u001b[0;34m\u001b[0m\u001b[0;34m\u001b[0m\u001b[0m\n",
      "\u001b[0;32mh5py/_objects.pyx\u001b[0m in \u001b[0;36mh5py._objects.with_phil.wrapper\u001b[0;34m()\u001b[0m\n",
      "\u001b[0;32mh5py/_objects.pyx\u001b[0m in \u001b[0;36mh5py._objects.with_phil.wrapper\u001b[0;34m()\u001b[0m\n",
      "\u001b[0;32m/global/common/software/nersc/pm-2022q3/sw/python/3.9-anaconda-2021.11/lib/python3.9/site-packages/h5py/_hl/group.py\u001b[0m in \u001b[0;36m__getitem__\u001b[0;34m(self, name)\u001b[0m\n\u001b[1;32m    326\u001b[0m                 \u001b[0;32mraise\u001b[0m \u001b[0mValueError\u001b[0m\u001b[0;34m(\u001b[0m\u001b[0;34m\"Invalid HDF5 object reference\"\u001b[0m\u001b[0;34m)\u001b[0m\u001b[0;34m\u001b[0m\u001b[0;34m\u001b[0m\u001b[0m\n\u001b[1;32m    327\u001b[0m         \u001b[0;32melif\u001b[0m \u001b[0misinstance\u001b[0m\u001b[0;34m(\u001b[0m\u001b[0mname\u001b[0m\u001b[0;34m,\u001b[0m \u001b[0;34m(\u001b[0m\u001b[0mbytes\u001b[0m\u001b[0;34m,\u001b[0m \u001b[0mstr\u001b[0m\u001b[0;34m)\u001b[0m\u001b[0;34m)\u001b[0m\u001b[0;34m:\u001b[0m\u001b[0;34m\u001b[0m\u001b[0;34m\u001b[0m\u001b[0m\n\u001b[0;32m--> 328\u001b[0;31m             \u001b[0moid\u001b[0m \u001b[0;34m=\u001b[0m \u001b[0mh5o\u001b[0m\u001b[0;34m.\u001b[0m\u001b[0mopen\u001b[0m\u001b[0;34m(\u001b[0m\u001b[0mself\u001b[0m\u001b[0;34m.\u001b[0m\u001b[0mid\u001b[0m\u001b[0;34m,\u001b[0m \u001b[0mself\u001b[0m\u001b[0;34m.\u001b[0m\u001b[0m_e\u001b[0m\u001b[0;34m(\u001b[0m\u001b[0mname\u001b[0m\u001b[0;34m)\u001b[0m\u001b[0;34m,\u001b[0m \u001b[0mlapl\u001b[0m\u001b[0;34m=\u001b[0m\u001b[0mself\u001b[0m\u001b[0;34m.\u001b[0m\u001b[0m_lapl\u001b[0m\u001b[0;34m)\u001b[0m\u001b[0;34m\u001b[0m\u001b[0;34m\u001b[0m\u001b[0m\n\u001b[0m\u001b[1;32m    329\u001b[0m         \u001b[0;32melse\u001b[0m\u001b[0;34m:\u001b[0m\u001b[0;34m\u001b[0m\u001b[0;34m\u001b[0m\u001b[0m\n\u001b[1;32m    330\u001b[0m             raise TypeError(\"Accessing a group is done with bytes or str, \"\n",
      "\u001b[0;32mh5py/_objects.pyx\u001b[0m in \u001b[0;36mh5py._objects.with_phil.wrapper\u001b[0;34m()\u001b[0m\n",
      "\u001b[0;32mh5py/_objects.pyx\u001b[0m in \u001b[0;36mh5py._objects.with_phil.wrapper\u001b[0;34m()\u001b[0m\n",
      "\u001b[0;32mh5py/h5o.pyx\u001b[0m in \u001b[0;36mh5py.h5o.open\u001b[0;34m()\u001b[0m\n",
      "\u001b[0;31mKeyError\u001b[0m: \"Unable to open object (object 'cluster_features' doesn't exist)\""
     ]
    }
   ],
   "source": [
    "from tqdm import tqdm\n",
    "nevents = np.shape(f[dataset])[0]\n",
    "with h5py.File(f'{label}_hcal_images_{voxel_factor}x{voxel_factor}.h5', 'w') as newfile:\n",
    "    # create empty data set\n",
    "    dset = newfile.create_dataset('calo_images', shape=(nevents, ncellsZ, ncellsXY, ncellsXY),\n",
    "                            maxshape=(None, ncellsZ, ncellsXY, ncellsXY), chunks=(chunk_size, ncellsZ, ncellsXY, ncellsXY),\n",
    "                            dtype=np.float32)\n",
    "    truth_dset = newfile.create_dataset('truth_features', shape=(nevents, n_truth_features),\n",
    "                            maxshape=(None, n_truth_features), chunks=(chunk_size, n_truth_features),\n",
    "                            dtype=np.float32)\n",
    "    \n",
    "    for chunk in tqdm(range(int(nevents/chunk_size))):\n",
    "    #for chunk in range(10):\n",
    "        # add chunk of rows\n",
    "        start = chunk*chunk_size\n",
    "        #print(start)\n",
    "        data = f[dataset][start:start+chunk_size]\n",
    "        data[:,:,[1,3]] = data[:,:,[3,1]]#Z-Data is now at X-index, and X-Data is at previous Z-index\n",
    "        data[:,:,[2,3]] = data[:,:,[3,2]]\n",
    "        \n",
    "        if dataset==\"cell_features\":\n",
    "            truth = f['cluster_features'][start:start+chunk_size,1] #genTheta, genP\n",
    "        else:\n",
    "            truth = f['cluster'][start:start+chunk_size,0:2] #genP, genTheta\n",
    "        \n",
    "        images = []\n",
    "        for evt in range(chunk_size):\n",
    "            counts, binedges = np.histogramdd(data[evt,:,:-2], bins=(ncellsZ,ncellsXY,ncellsZ), weights=data[evt,:,h5_indexE])\n",
    "            images.append(counts)\n",
    "        images=np.asarray(images)\n",
    "        \n",
    "        dset[start:start+chunk_size, :, :,:] = images[:, :, :,:]\n",
    "        truth_dset[start:start+chunk_size, :] = truth[:,:]"
   ]
  },
  {
   "cell_type": "code",
   "execution_count": null,
   "id": "92395c5e-fbcc-4cd9-81e2-7b47be3820b1",
   "metadata": {},
   "outputs": [],
   "source": [
    "with h5py.File('epic_hcal_images_5x5.h5', 'r') as newfile:\n",
    "    #print(f['calo_images'].attrs['last_index'])\n",
    "    print(newfile['calo_images'].shape)\n",
    "    #print(f['embeds'][0:26])\n",
    "    #print(newfile['calo_images'][0])\n",
    "    for i in range(13):\n",
    "        for row in newfile['calo_images'][0,:,:,i]:\n",
    "            print(row)"
   ]
  },
  {
   "cell_type": "raw",
   "id": "e9bb9319-83dd-4811-b0f8-6a34a5b4bcb0",
   "metadata": {},
   "source": [
    "nevents = np.shape(f['hcal_cells'])[0]\n",
    "images = []\n",
    "import time\n",
    "for chunk in range(int(nevents/chunk_size)):\n",
    "    start = chunk*chunk_size\n",
    "    end = start+chunk_size\n",
    "    data = f['hcal_cells'][start:end]\n",
    "    print(start)\n",
    "    for evt in range(chunk_size):\n",
    "        counts, binedges = np.histogramdd(data[evt,:,:-2], bins=(54,54,54), weights=data[evt,:,h5_indexE])\n",
    "        images.append(counts)\n",
    "print(time.time())"
   ]
  },
  {
   "cell_type": "code",
   "execution_count": null,
   "id": "36cd12b1-90e5-4f6d-aa2c-dfa8b7b2a40b",
   "metadata": {},
   "outputs": [],
   "source": []
  },
  {
   "cell_type": "code",
   "execution_count": null,
   "id": "d6a10dfd-932a-415d-b10a-b72fc4d7b9cb",
   "metadata": {},
   "outputs": [],
   "source": []
  }
 ],
 "metadata": {
  "kernelspec": {
   "display_name": "NERSC Python",
   "language": "python",
   "name": "python3"
  },
  "language_info": {
   "codemirror_mode": {
    "name": "ipython",
    "version": 3
   },
   "file_extension": ".py",
   "mimetype": "text/x-python",
   "name": "python",
   "nbconvert_exporter": "python",
   "pygments_lexer": "ipython3",
   "version": "3.9.7"
  }
 },
 "nbformat": 4,
 "nbformat_minor": 5
}
