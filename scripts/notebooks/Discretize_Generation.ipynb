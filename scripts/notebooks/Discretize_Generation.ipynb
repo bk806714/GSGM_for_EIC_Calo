{
 "cells": [
  {
   "cell_type": "markdown",
   "id": "c24a4677-a0d6-4caa-9639-e81e16e39163",
   "metadata": {
    "tags": []
   },
   "source": [
    "### Notebook to make Fast Point-Cloud Diffusion distributions Discrete, like G4"
   ]
  },
  {
   "cell_type": "code",
   "execution_count": 1,
   "id": "8159f189-1867-471f-a9d3-a5ad1056fb75",
   "metadata": {},
   "outputs": [],
   "source": [
    "import h5py\n",
    "import numpy as np\n",
    "from tqdm import tqdm"
   ]
  },
  {
   "cell_type": "code",
   "execution_count": 2,
   "id": "5ed62238-8673-4b1c-92df-ff9b23d175ac",
   "metadata": {},
   "outputs": [
    {
     "name": "stdout",
     "output_type": "stream",
     "text": [
      "<KeysViewHDF5 ['cluster', 'hcal_cells']>\n"
     ]
    }
   ],
   "source": [
    "#Must be a naturally discrete dataset, from G4!!!\n",
    "\n",
    "#geant4_name = \"improved_200cells_FPCD.hdf5\"\n",
    "geant4_name = \"improvedMIP_200cells_FPCD.hdf5\"\n",
    "g4 = h5py.File(geant4_name, 'r')\n",
    "print(g4.keys())\n",
    "chunk_size=2000\n",
    "nevts=100_000"
   ]
  },
  {
   "cell_type": "code",
   "execution_count": 3,
   "id": "fbf43024-e277-474f-8abf-3067a0731d96",
   "metadata": {},
   "outputs": [],
   "source": [
    "def get_bin_edges(g4_cell_data):\n",
    "    centers = np.unique(g4_cell_data)\n",
    "    if (centers[0] == 0):\n",
    "        centers = centers[1:]\n",
    "    width = np.round(centers[1] - centers[0],2)\n",
    "\n",
    "    edges = centers - width/2\n",
    "    max_edge = centers[-1] + width/2\n",
    "    edges = (np.append(edges,max_edge))\n",
    "    \n",
    "    return centers, edges"
   ]
  },
  {
   "cell_type": "code",
   "execution_count": 4,
   "id": "7799c7cb-2a27-4862-83eb-903e685b47ef",
   "metadata": {},
   "outputs": [
    {
     "name": "stdout",
     "output_type": "stream",
     "text": [
      "dict_keys(['centersX', 'edgesX', 'centersY', 'edgesY', 'centersZ', 'edgesZ'])\n"
     ]
    }
   ],
   "source": [
    "bin_dict = {}\n",
    "var_str = [\"E\",\"X\",\"Y\",\"Z\"]\n",
    "\n",
    "for var in range(1,4):\n",
    "    g4_data = g4['hcal_cells'][:nevts,:,var]\n",
    "    centers, edges = get_bin_edges(g4_data)\n",
    "    bin_dict[f\"centers{var_str[var]}\"],bin_dict[f\"edges{var_str[var]}\"] = centers, edges\n",
    "\n",
    "print(bin_dict.keys())"
   ]
  },
  {
   "cell_type": "code",
   "execution_count": 5,
   "id": "c07e9663-4227-4672-963a-42e421a1ed97",
   "metadata": {},
   "outputs": [],
   "source": [
    "#Dataset of Continuous distributions, to be converted\n",
    "g4_disc = False\n",
    "\n",
    "dset_name = 'cell_features'\n",
    "cluster_name = 'cluster_features'\n",
    "discrete_name = \"GSGM_Discrete.h5\"\n",
    "continuous_name = \"GSGM.h5\"\n",
    "\n",
    "if (g4_disc):\n",
    "    dset_name = 'hcal_cells' #for smeared G4 data, not for GSGM\n",
    "    cluster_name = \"cluster\"\n",
    "    discrete_name = \"G4_Discrete.h5\"\n",
    "    continuous_name = \"newMIP_smeared_20keV_200cells_FPCD.hdf5\""
   ]
  },
  {
   "cell_type": "raw",
   "id": "a857109f-9f0d-4f78-a4b2-138812b6ffe1",
   "metadata": {},
   "source": [
    "diffusion_name = \"GSGM.h5\"\n",
    "dfsn = h5py.File(diffusion_name,'r')\n",
    "print(dfsn.keys())\n",
    "\n",
    "digit_dict = {}\n",
    "var_str = [\"E\",\"X\",\"Y\",\"Z\"]\n",
    "for var in range(1,4):\n",
    "    diffusion_data = dfsn[dset_name][:,:,var]\n",
    "    digits = np.digitize(diffusion_data,bin_dict[f\"edges{var_str[var]}\"])\n",
    "    print(var_str[var],\": \",digits[100,:10])\n",
    "    digit_dict[f\"digits{var_str[var]}\"] = digits - 1  # -1 for indices"
   ]
  },
  {
   "cell_type": "code",
   "execution_count": 6,
   "id": "0dfa8577-2a2f-488b-b090-ef9ef3463eb9",
   "metadata": {},
   "outputs": [
    {
     "name": "stdout",
     "output_type": "stream",
     "text": [
      "<KeysViewHDF5 ['cell_features', 'cluster_features']>\n",
      "X :  [19 18 19 19 18 19 19 19 19 20]\n",
      "Y :  [18 19 19 19 19 20 20 19 20 20]\n",
      "Z :  [13  6 16  4 14 21  1  5 10  4]\n"
     ]
    }
   ],
   "source": [
    "dfsn = h5py.File(continuous_name,'r')\n",
    "print(dfsn.keys())\n",
    "\n",
    "digit_dict = {}\n",
    "var_str = [\"E\",\"X\",\"Y\",\"Z\"]\n",
    "for var in range(1,4):\n",
    "    diffusion_data = dfsn[dset_name][:,:,var]\n",
    "    digits = np.digitize(diffusion_data,bin_dict[f\"edges{var_str[var]}\"])\n",
    "    print(var_str[var],\": \",digits[100,:10])\n",
    "    digit_dict[f\"digits{var_str[var]}\"] = digits - 1  # -1 for indices"
   ]
  },
  {
   "cell_type": "code",
   "execution_count": 7,
   "id": "b142e646-f2fe-4040-946d-87a2d65edede",
   "metadata": {},
   "outputs": [
    {
     "data": {
      "text/plain": [
       "(2,)"
      ]
     },
     "execution_count": 7,
     "metadata": {},
     "output_type": "execute_result"
    }
   ],
   "source": [
    "np.shape(dfsn[cluster_name][1])"
   ]
  },
  {
   "cell_type": "code",
   "execution_count": 8,
   "id": "ffacee12-9865-482f-ab69-0837c7ef692c",
   "metadata": {
    "tags": []
   },
   "outputs": [
    {
     "name": "stderr",
     "output_type": "stream",
     "text": [
      "100%|██████████| 10000/10000 [00:00<00:00, 10482.68it/s]\n"
     ]
    },
    {
     "name": "stdout",
     "output_type": "stream",
     "text": [
      "[ -900.  -900. -1000.  -900.  -900.  -900. -1000.  -900. -1100.  -800.]\n",
      "Done with X\n"
     ]
    },
    {
     "name": "stderr",
     "output_type": "stream",
     "text": [
      "100%|██████████| 10000/10000 [00:00<00:00, 10126.98it/s]\n"
     ]
    },
    {
     "name": "stdout",
     "output_type": "stream",
     "text": [
      "[ -900.  -900.  -900.  -900.  -900.  -800.  -800.  -800.  -900. -1000.]\n",
      "Done with Y\n"
     ]
    },
    {
     "name": "stderr",
     "output_type": "stream",
     "text": [
      "100%|██████████| 10000/10000 [00:01<00:00, 9928.64it/s]"
     ]
    },
    {
     "name": "stdout",
     "output_type": "stream",
     "text": [
      "[4102.3 3961.9 4219.3 4289.5 3844.9 4055.5 4429.9 3938.5 4125.7 4219.3]\n",
      "Done with Z\n"
     ]
    },
    {
     "name": "stderr",
     "output_type": "stream",
     "text": [
      "\n"
     ]
    }
   ],
   "source": [
    "test = 0\n",
    "nevents = np.shape(dfsn[dset_name])[0]\n",
    "nevents = 10_000\n",
    "ncells = np.shape(dfsn[dset_name])[1]\n",
    "nvar = np.shape(dfsn[dset_name])[2]\n",
    "ncluster_var = np.shape(dfsn[cluster_name])[1]\n",
    "chunk_size = 100\n",
    "with h5py.File(discrete_name, 'w') as newfile:\n",
    "    # create empty data set\n",
    "    dset = newfile.create_dataset(dset_name, \n",
    "                                shape=(np.shape(dfsn[dset_name])),\n",
    "                                maxshape=(np.shape(dfsn[dset_name])), \n",
    "                                chunks=(chunk_size, ncells, nvar),\n",
    "                                dtype=np.float32)\n",
    "\n",
    "    cluster_dset = newfile.create_dataset(cluster_name, data=dfsn[cluster_name])\n",
    "    \n",
    "    \n",
    "    dset[:,:,0] = dfsn[dset_name][:,:,0]\n",
    "    dset[:,:,-1] = dfsn[dset_name][:,:,-1]\n",
    "    for var in range(1,4):\n",
    "        \n",
    "        g4_centers = bin_dict[f\"centers{var_str[var]}\"]  # what the data will be set to\n",
    "        n_bins = len(bin_dict[f\"centers{var_str[var]}\"]) \n",
    "        var_mask =  digit_dict[f\"digits{var_str[var]}\"]  #which data will be edited\n",
    "        #print(\"var mask shape = \",np.shape(var_mask))\n",
    "        diffusion_data = dfsn[dset_name][:,:,var]\n",
    "        #print(\"var_mask = \",var_mask[10])\n",
    "        for evt in tqdm(range(nevents)):\n",
    "            for ibin in range(n_bins):\n",
    "                bin_mask = var_mask[evt]==ibin\n",
    "                #print(\"BIN NUMBER\",ibin)\n",
    "                #print(\"Var Mask sample\",var_mask[evt,25:35])\n",
    "                #print(\"Data = \",diffusion_data[evt,25:35][var_mask[evt,25:35]==ibin])\n",
    "                #print(\"BIN CENTER = \",g4_centers[ibin])\n",
    "                diffusion_data[evt][bin_mask] = g4_centers[ibin]\n",
    "                #print(\"Data Discr= \",diffusion_data[evt,25:35][var_mask[evt,25:35]==ibin])\n",
    "            \n",
    "                \n",
    "        dset[:,:,var] = np.round(diffusion_data,2)\n",
    "        print(np.round(diffusion_data[100,25:35],2))\n",
    "        print(f\"Done with {var_str[var]}\")"
   ]
  },
  {
   "cell_type": "code",
   "execution_count": 9,
   "id": "183e111e-8e68-4683-8e08-6ff92dc9afd9",
   "metadata": {},
   "outputs": [
    {
     "name": "stdout",
     "output_type": "stream",
     "text": [
      "[-1652.46 -1449.17 -1367.29 -1248.4  -1243.31 -1234.24 -1198.72 -1177.31]\n"
     ]
    }
   ],
   "source": [
    "with h5py.File(f'G4_Discrete.h5', 'r') as disc:\n",
    "    mask = disc[\"hcal_cells\"][10000,:,-1] != 0\n",
    "    cellX = disc[\"hcal_cells\"][10000,:,1][mask]\n",
    "    print(np.unique(cellX))"
   ]
  },
  {
   "cell_type": "code",
   "execution_count": 10,
   "id": "1345da4f-f108-42e3-9a87-cd51ebdc8abe",
   "metadata": {},
   "outputs": [
    {
     "name": "stdout",
     "output_type": "stream",
     "text": [
      "[ 800.  900. 1000. 1100. 1200. 1300.]\n"
     ]
    }
   ],
   "source": [
    "with h5py.File(f'GSGM_Discrete.h5', 'r') as disc:\n",
    "    mask = disc[\"cell_features\"][1000,:,-1] != 0\n",
    "    cellX = disc[\"cell_features\"][1000,:,1][mask]\n",
    "    print(np.unique(cellX))\n",
    "    "
   ]
  },
  {
   "cell_type": "code",
   "execution_count": 11,
   "id": "092a42e2-a72d-4d1e-8a38-7e5356594151",
   "metadata": {},
   "outputs": [
    {
     "name": "stdout",
     "output_type": "stream",
     "text": [
      "[3821.5 3844.9 3868.3 3915.1 3938.5 3938.5 3891.7 3844.9 3868.3 3915.1]\n"
     ]
    }
   ],
   "source": [
    "print(g4[\"hcal_cells\"][100,:10,3])"
   ]
  },
  {
   "cell_type": "code",
   "execution_count": null,
   "id": "9570245e-e52d-4698-8550-21a69c6ad70b",
   "metadata": {},
   "outputs": [],
   "source": []
  }
 ],
 "metadata": {
  "kernelspec": {
   "display_name": "NERSC Python",
   "language": "python",
   "name": "python3"
  },
  "language_info": {
   "codemirror_mode": {
    "name": "ipython",
    "version": 3
   },
   "file_extension": ".py",
   "mimetype": "text/x-python",
   "name": "python",
   "nbconvert_exporter": "python",
   "pygments_lexer": "ipython3",
   "version": "3.9.7"
  }
 },
 "nbformat": 4,
 "nbformat_minor": 5
}
